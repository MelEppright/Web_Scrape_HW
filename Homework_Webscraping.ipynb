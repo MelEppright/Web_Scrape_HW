{
 "cells": [
  {
   "cell_type": "code",
   "execution_count": 1,
   "metadata": {},
   "outputs": [
    {
     "name": "stdout",
     "output_type": "stream",
     "text": [
      "Requirement already satisfied: splinter in /Users/melanieeppright/anaconda3/lib/python3.6/site-packages (0.10.0)\n",
      "Requirement already satisfied: selenium>=3.141.0 in /Users/melanieeppright/anaconda3/lib/python3.6/site-packages (from splinter) (3.141.0)\n",
      "Requirement already satisfied: urllib3 in /Users/melanieeppright/anaconda3/lib/python3.6/site-packages (from selenium>=3.141.0->splinter) (1.22)\n",
      "\u001b[33mYou are using pip version 18.1, however version 19.0.3 is available.\n",
      "You should consider upgrading via the 'pip install --upgrade pip' command.\u001b[0m\n"
     ]
    }
   ],
   "source": [
    "!pip install splinter"
   ]
  },
  {
   "cell_type": "code",
   "execution_count": 2,
   "metadata": {},
   "outputs": [],
   "source": [
    "from splinter import Browser\n",
    "from bs4 import BeautifulSoup"
   ]
  },
  {
   "cell_type": "code",
   "execution_count": 3,
   "metadata": {},
   "outputs": [
    {
     "name": "stdout",
     "output_type": "stream",
     "text": [
      "/usr/local/bin/chromedriver\r\n"
     ]
    }
   ],
   "source": [
    "!which chromedriver"
   ]
  },
  {
   "cell_type": "code",
   "execution_count": 4,
   "metadata": {},
   "outputs": [],
   "source": [
    "executable_path = {'executable_path': '/usr/local/bin/chromedriver'}\n",
    "browser = Browser('chrome', **executable_path, headless=False)"
   ]
  },
  {
   "cell_type": "code",
   "execution_count": 5,
   "metadata": {},
   "outputs": [],
   "source": [
    "url = 'https://mars.nasa.gov/news/?page=0&per_page=40&order=publish_date+desc%2Ccreated_at+desc&search=&category=19%2C165%2C184%2C204&blank_scope=Latest'\n",
    "browser.visit(url)"
   ]
  },
  {
   "cell_type": "code",
   "execution_count": 6,
   "metadata": {},
   "outputs": [],
   "source": [
    "html = browser.html\n",
    "soup = BeautifulSoup(html, 'html.parser')"
   ]
  },
  {
   "cell_type": "code",
   "execution_count": 14,
   "metadata": {},
   "outputs": [],
   "source": [
    "slides = soup.find_all('div', class_=\"slide\")"
   ]
  },
  {
   "cell_type": "code",
   "execution_count": 15,
   "metadata": {},
   "outputs": [
    {
     "data": {
      "text/plain": [
       "[<div class=\"slide slick-slide slick-cloned\" index=\"-3\" style=\"width: 332px;\">\n",
       " <div class=\"image_and_description_container\">\n",
       " <a href=\"/news/8348/opportunity-hunkers-down-during-dust-storm/\">\n",
       " <div class=\"rollover_description\">\n",
       " <div class=\"rollover_description_inner\">\n",
       " It's the beginning of the end for the planet-encircling dust storm on Mars. But it could still be weeks, or even months, before skies are clear enough for NASA's Opportunity rover to recharge its batteries and phone home. \n",
       " </div>\n",
       " <div class=\"overlay_arrow\">\n",
       " <img alt=\"More\" src=\"/assets/overlay-arrow.png\"/>\n",
       " </div>\n",
       " </div>\n",
       " <img alt=\"Opportunity Hunkers Down During Dust Storm\" class=\"img-lazy\" data-lazy=\"/system/news_items/list_view_images/8348_PIA22521-320.jpg\" src=\"/assets/loading_320x240.png\"/>\n",
       " </a>\n",
       " </div>\n",
       " <div class=\"content_title\">\n",
       " <a href=\"/news/8348/opportunity-hunkers-down-during-dust-storm/\">\n",
       " Opportunity Hunkers Down During Dust Storm\n",
       " </a>\n",
       " </div>\n",
       " </div>,\n",
       " <div class=\"slide slick-slide slick-cloned\" index=\"-2\" style=\"width: 332px;\">\n",
       " <div class=\"image_and_description_container\">\n",
       " <a href=\"/news/8347/nasa-finds-ancient-organic-material-mysterious-methane-on-mars/\">\n",
       " <div class=\"rollover_description\">\n",
       " <div class=\"rollover_description_inner\">\n",
       " NASA’s Curiosity rover has found evidence on Mars with implications for NASA’s search for life.\n",
       " </div>\n",
       " <div class=\"overlay_arrow\">\n",
       " <img alt=\"More\" src=\"/assets/overlay-arrow.png\"/>\n",
       " </div>\n",
       " </div>\n",
       " <img alt=\"NASA Finds Ancient Organic Material, Mysterious Methane on Mars\" class=\"img-lazy\" data-lazy=\"/system/news_items/list_view_images/8347_curiosity_methane-320.jpg\" src=\"/assets/loading_320x240.png\"/>\n",
       " </a>\n",
       " </div>\n",
       " <div class=\"content_title\">\n",
       " <a href=\"/news/8347/nasa-finds-ancient-organic-material-mysterious-methane-on-mars/\">\n",
       " NASA Finds Ancient Organic Material, Mysterious Methane on Mars\n",
       " </a>\n",
       " </div>\n",
       " </div>,\n",
       " <div class=\"slide slick-slide slick-cloned\" index=\"-1\" style=\"width: 332px;\">\n",
       " <div class=\"image_and_description_container\">\n",
       " <a href=\"/news/8326/nasa-invests-in-visionary-technology/\">\n",
       " <div class=\"rollover_description\">\n",
       " <div class=\"rollover_description_inner\">\n",
       " NASA is investing in technology concepts, including several from JPL, that may one day be used for future space exploration missions.\n",
       " </div>\n",
       " <div class=\"overlay_arrow\">\n",
       " <img alt=\"More\" src=\"/assets/overlay-arrow.png\"/>\n",
       " </div>\n",
       " </div>\n",
       " <img alt=\"NASA Invests in Visionary Technology \" class=\"img-lazy\" data-lazy=\"/system/news_items/list_view_images/8326_niac320.jpg\" src=\"/assets/loading_320x240.png\"/>\n",
       " </a>\n",
       " </div>\n",
       " <div class=\"content_title\">\n",
       " <a href=\"/news/8326/nasa-invests-in-visionary-technology/\">\n",
       " NASA Invests in Visionary Technology \n",
       " </a>\n",
       " </div>\n",
       " </div>,\n",
       " <div class=\"slide slick-slide slick-active\" index=\"0\" style=\"width: 332px;\">\n",
       " <div class=\"image_and_description_container\">\n",
       " <a href=\"/news/8413/nasas-opportunity-rover-mission-on-mars-comes-to-end/\">\n",
       " <div class=\"rollover_description\">\n",
       " <div class=\"rollover_description_inner\">\n",
       " NASA's Opportunity Mars rover mission is complete after 15 years on Mars. Opportunity's record-breaking exploration laid the groundwork for future missions to the Red Planet.\n",
       " </div>\n",
       " <div class=\"overlay_arrow\">\n",
       " <img alt=\"More\" src=\"/assets/overlay-arrow.png\"/>\n",
       " </div>\n",
       " </div>\n",
       " <img alt=\"NASA's Opportunity Rover Mission on Mars Comes to End\" class=\"img-lazy\" src=\"/system/news_items/list_view_images/8413_PIA06739-320x240.jpg?1551322192031\" style=\"opacity: 1;\"/>\n",
       " </a>\n",
       " </div>\n",
       " <div class=\"content_title\">\n",
       " <a href=\"/news/8413/nasas-opportunity-rover-mission-on-mars-comes-to-end/\">\n",
       " NASA's Opportunity Rover Mission on Mars Comes to End\n",
       " </a>\n",
       " </div>\n",
       " </div>,\n",
       " <div class=\"slide slick-slide slick-active\" index=\"1\" style=\"width: 332px;\">\n",
       " <div class=\"image_and_description_container\">\n",
       " <a href=\"/news/8402/nasas-insight-places-first-instrument-on-mars/\">\n",
       " <div class=\"rollover_description\">\n",
       " <div class=\"rollover_description_inner\">\n",
       " In deploying its first instrument onto the surface of Mars, the lander completes a major mission milestone.\n",
       " </div>\n",
       " <div class=\"overlay_arrow\">\n",
       " <img alt=\"More\" src=\"/assets/overlay-arrow.png\"/>\n",
       " </div>\n",
       " </div>\n",
       " <img alt=\"NASA's InSight Places First Instrument on Mars\" class=\"img-lazy\" src=\"/system/news_items/list_view_images/8402_PIA22977_SEIS_deploy_IDC_calibrated-th.gif?1551322192031\" style=\"opacity: 1;\"/>\n",
       " </a>\n",
       " </div>\n",
       " <div class=\"content_title\">\n",
       " <a href=\"/news/8402/nasas-insight-places-first-instrument-on-mars/\">\n",
       " NASA's InSight Places First Instrument on Mars\n",
       " </a>\n",
       " </div>\n",
       " </div>,\n",
       " <div class=\"slide slick-slide slick-active\" index=\"2\" style=\"width: 332px;\">\n",
       " <div class=\"image_and_description_container\">\n",
       " <a href=\"/news/8387/nasa-announces-landing-site-for-mars-2020-rover/\">\n",
       " <div class=\"rollover_description\">\n",
       " <div class=\"rollover_description_inner\">\n",
       " After a five-year search, NASA has chosen Jezero Crater as the landing site for its upcoming Mars 2020 rover mission.\n",
       " </div>\n",
       " <div class=\"overlay_arrow\">\n",
       " <img alt=\"More\" src=\"/assets/overlay-arrow.png\"/>\n",
       " </div>\n",
       " </div>\n",
       " <img alt=\"NASA Announces Landing Site for Mars 2020 Rover\" class=\"img-lazy\" src=\"/system/news_items/list_view_images/8387_JezeroCrater-320x240.jpg?1551322192031\" style=\"opacity: 1;\"/>\n",
       " </a>\n",
       " </div>\n",
       " <div class=\"content_title\">\n",
       " <a href=\"/news/8387/nasa-announces-landing-site-for-mars-2020-rover/\">\n",
       " NASA Announces Landing Site for Mars 2020 Rover\n",
       " </a>\n",
       " </div>\n",
       " </div>,\n",
       " <div class=\"slide slick-slide\" index=\"3\" style=\"width: 332px;\">\n",
       " <div class=\"image_and_description_container\">\n",
       " <a href=\"/news/8348/opportunity-hunkers-down-during-dust-storm/\">\n",
       " <div class=\"rollover_description\">\n",
       " <div class=\"rollover_description_inner\">\n",
       " It's the beginning of the end for the planet-encircling dust storm on Mars. But it could still be weeks, or even months, before skies are clear enough for NASA's Opportunity rover to recharge its batteries and phone home. \n",
       " </div>\n",
       " <div class=\"overlay_arrow\">\n",
       " <img alt=\"More\" src=\"/assets/overlay-arrow.png\"/>\n",
       " </div>\n",
       " </div>\n",
       " <img alt=\"Opportunity Hunkers Down During Dust Storm\" class=\"img-lazy\" data-lazy=\"/system/news_items/list_view_images/8348_PIA22521-320.jpg\" src=\"/assets/loading_320x240.png\"/>\n",
       " </a>\n",
       " </div>\n",
       " <div class=\"content_title\">\n",
       " <a href=\"/news/8348/opportunity-hunkers-down-during-dust-storm/\">\n",
       " Opportunity Hunkers Down During Dust Storm\n",
       " </a>\n",
       " </div>\n",
       " </div>,\n",
       " <div class=\"slide slick-slide\" index=\"4\" style=\"width: 332px;\">\n",
       " <div class=\"image_and_description_container\">\n",
       " <a href=\"/news/8347/nasa-finds-ancient-organic-material-mysterious-methane-on-mars/\">\n",
       " <div class=\"rollover_description\">\n",
       " <div class=\"rollover_description_inner\">\n",
       " NASA’s Curiosity rover has found evidence on Mars with implications for NASA’s search for life.\n",
       " </div>\n",
       " <div class=\"overlay_arrow\">\n",
       " <img alt=\"More\" src=\"/assets/overlay-arrow.png\"/>\n",
       " </div>\n",
       " </div>\n",
       " <img alt=\"NASA Finds Ancient Organic Material, Mysterious Methane on Mars\" class=\"img-lazy\" data-lazy=\"/system/news_items/list_view_images/8347_curiosity_methane-320.jpg\" src=\"/assets/loading_320x240.png\"/>\n",
       " </a>\n",
       " </div>\n",
       " <div class=\"content_title\">\n",
       " <a href=\"/news/8347/nasa-finds-ancient-organic-material-mysterious-methane-on-mars/\">\n",
       " NASA Finds Ancient Organic Material, Mysterious Methane on Mars\n",
       " </a>\n",
       " </div>\n",
       " </div>,\n",
       " <div class=\"slide slick-slide\" index=\"5\" style=\"width: 332px;\">\n",
       " <div class=\"image_and_description_container\">\n",
       " <a href=\"/news/8326/nasa-invests-in-visionary-technology/\">\n",
       " <div class=\"rollover_description\">\n",
       " <div class=\"rollover_description_inner\">\n",
       " NASA is investing in technology concepts, including several from JPL, that may one day be used for future space exploration missions.\n",
       " </div>\n",
       " <div class=\"overlay_arrow\">\n",
       " <img alt=\"More\" src=\"/assets/overlay-arrow.png\"/>\n",
       " </div>\n",
       " </div>\n",
       " <img alt=\"NASA Invests in Visionary Technology \" class=\"img-lazy\" data-lazy=\"/system/news_items/list_view_images/8326_niac320.jpg\" src=\"/assets/loading_320x240.png\"/>\n",
       " </a>\n",
       " </div>\n",
       " <div class=\"content_title\">\n",
       " <a href=\"/news/8326/nasa-invests-in-visionary-technology/\">\n",
       " NASA Invests in Visionary Technology \n",
       " </a>\n",
       " </div>\n",
       " </div>,\n",
       " <div class=\"slide slick-slide slick-cloned\" index=\"6\" style=\"width: 332px;\">\n",
       " <div class=\"image_and_description_container\">\n",
       " <a href=\"/news/8413/nasas-opportunity-rover-mission-on-mars-comes-to-end/\">\n",
       " <div class=\"rollover_description\">\n",
       " <div class=\"rollover_description_inner\">\n",
       " NASA's Opportunity Mars rover mission is complete after 15 years on Mars. Opportunity's record-breaking exploration laid the groundwork for future missions to the Red Planet.\n",
       " </div>\n",
       " <div class=\"overlay_arrow\">\n",
       " <img alt=\"More\" src=\"/assets/overlay-arrow.png\"/>\n",
       " </div>\n",
       " </div>\n",
       " <img alt=\"NASA's Opportunity Rover Mission on Mars Comes to End\" class=\"img-lazy\" src=\"/system/news_items/list_view_images/8413_PIA06739-320x240.jpg?1551322192032\" style=\"opacity: 1;\"/>\n",
       " </a>\n",
       " </div>\n",
       " <div class=\"content_title\">\n",
       " <a href=\"/news/8413/nasas-opportunity-rover-mission-on-mars-comes-to-end/\">\n",
       " NASA's Opportunity Rover Mission on Mars Comes to End\n",
       " </a>\n",
       " </div>\n",
       " </div>,\n",
       " <div class=\"slide slick-slide slick-cloned\" index=\"7\" style=\"width: 332px;\">\n",
       " <div class=\"image_and_description_container\">\n",
       " <a href=\"/news/8402/nasas-insight-places-first-instrument-on-mars/\">\n",
       " <div class=\"rollover_description\">\n",
       " <div class=\"rollover_description_inner\">\n",
       " In deploying its first instrument onto the surface of Mars, the lander completes a major mission milestone.\n",
       " </div>\n",
       " <div class=\"overlay_arrow\">\n",
       " <img alt=\"More\" src=\"/assets/overlay-arrow.png\"/>\n",
       " </div>\n",
       " </div>\n",
       " <img alt=\"NASA's InSight Places First Instrument on Mars\" class=\"img-lazy\" src=\"/system/news_items/list_view_images/8402_PIA22977_SEIS_deploy_IDC_calibrated-th.gif?1551322192032\" style=\"opacity: 1;\"/>\n",
       " </a>\n",
       " </div>\n",
       " <div class=\"content_title\">\n",
       " <a href=\"/news/8402/nasas-insight-places-first-instrument-on-mars/\">\n",
       " NASA's InSight Places First Instrument on Mars\n",
       " </a>\n",
       " </div>\n",
       " </div>,\n",
       " <div class=\"slide slick-slide slick-cloned\" index=\"8\" style=\"width: 332px;\">\n",
       " <div class=\"image_and_description_container\">\n",
       " <a href=\"/news/8387/nasa-announces-landing-site-for-mars-2020-rover/\">\n",
       " <div class=\"rollover_description\">\n",
       " <div class=\"rollover_description_inner\">\n",
       " After a five-year search, NASA has chosen Jezero Crater as the landing site for its upcoming Mars 2020 rover mission.\n",
       " </div>\n",
       " <div class=\"overlay_arrow\">\n",
       " <img alt=\"More\" src=\"/assets/overlay-arrow.png\"/>\n",
       " </div>\n",
       " </div>\n",
       " <img alt=\"NASA Announces Landing Site for Mars 2020 Rover\" class=\"img-lazy\" src=\"/system/news_items/list_view_images/8387_JezeroCrater-320x240.jpg?1551322192032\" style=\"opacity: 1;\"/>\n",
       " </a>\n",
       " </div>\n",
       " <div class=\"content_title\">\n",
       " <a href=\"/news/8387/nasa-announces-landing-site-for-mars-2020-rover/\">\n",
       " NASA Announces Landing Site for Mars 2020 Rover\n",
       " </a>\n",
       " </div>\n",
       " </div>]"
      ]
     },
     "execution_count": 15,
     "metadata": {},
     "output_type": "execute_result"
    }
   ],
   "source": [
    "slides"
   ]
  },
  {
   "cell_type": "code",
   "execution_count": 13,
   "metadata": {},
   "outputs": [
    {
     "name": "stdout",
     "output_type": "stream",
     "text": [
      "target\n",
      "target\n",
      "target\n",
      "target\n",
      "target\n",
      "target\n",
      "target\n",
      "target\n",
      "target\n",
      "target\n",
      "target\n",
      "target\n",
      "target\n",
      "target\n",
      "target\n",
      "target\n",
      "target\n",
      "target\n",
      "target\n",
      "target\n",
      "target\n",
      "target\n",
      "target\n",
      "target\n",
      "target\n",
      "target\n",
      "target\n",
      "target\n",
      "target\n",
      "target\n",
      "target\n",
      "target\n",
      "target\n",
      "target\n",
      "target\n",
      "target\n",
      "target\n",
      "target\n",
      "target\n",
      "target\n",
      "target\n",
      "target\n",
      "target\n",
      "target\n",
      "target\n",
      "target\n",
      "target\n",
      "target\n",
      "target\n",
      "target\n",
      "target\n",
      "target\n"
     ]
    }
   ],
   "source": [
    "for slides in slide:\n",
    "    "
   ]
  },
  {
   "cell_type": "code",
   "execution_count": null,
   "metadata": {},
   "outputs": [],
   "source": [
    "slides = soup.find_all('li', class_=\"slide\")"
   ]
  },
  {
   "cell_type": "code",
   "execution_count": null,
   "metadata": {},
   "outputs": [],
   "source": []
  },
  {
   "cell_type": "code",
   "execution_count": null,
   "metadata": {},
   "outputs": [],
   "source": [
    "slides"
   ]
  },
  {
   "cell_type": "code",
   "execution_count": null,
   "metadata": {},
   "outputs": [],
   "source": [
    "for slide in slides:\n",
    "    container = slide.find('image_and_description_container')\n"
   ]
  },
  {
   "cell_type": "code",
   "execution_count": null,
   "metadata": {},
   "outputs": [],
   "source": [
    "#     text = container.find('list_text')\n",
    "    title = text.find('content_title')\n",
    "    print(title)"
   ]
  },
  {
   "cell_type": "code",
   "execution_count": null,
   "metadata": {},
   "outputs": [],
   "source": [
    "response = requests.get(url)"
   ]
  },
  {
   "cell_type": "code",
   "execution_count": null,
   "metadata": {},
   "outputs": [],
   "source": [
    "soup = BeautifulSoup(response.text, 'html.parser')"
   ]
  },
  {
   "cell_type": "code",
   "execution_count": null,
   "metadata": {},
   "outputs": [],
   "source": [
    "print(soup.prettify())"
   ]
  },
  {
   "cell_type": "code",
   "execution_count": null,
   "metadata": {},
   "outputs": [],
   "source": [
    "results = soup.find_all('li', class_=\"slide\")"
   ]
  },
  {
   "cell_type": "code",
   "execution_count": null,
   "metadata": {},
   "outputs": [],
   "source": [
    "results"
   ]
  },
  {
   "cell_type": "code",
   "execution_count": null,
   "metadata": {},
   "outputs": [],
   "source": [
    "for result in results:\n",
    "    try:\n",
    "        # Identify and return title of listing\n",
    "        title = result.find('a', class_=\"content_title\").text\n",
    "        if (title):\n",
    "            print(title)\n",
    "    except AttributeError as e:\n",
    "        print(e)"
   ]
  },
  {
   "cell_type": "code",
   "execution_count": null,
   "metadata": {},
   "outputs": [],
   "source": []
  },
  {
   "cell_type": "code",
   "execution_count": null,
   "metadata": {},
   "outputs": [],
   "source": [
    "# Loop through returned results\n",
    "for result in results:\n",
    "    # Error handling\n",
    "    try:\n",
    "        # Identify and return title of listing\n",
    "        title = result.find('h2', class_=\"module_ttitle\").text\n",
    "        # Identify and return price of listing\n",
    "        teaser = result.a.span.text\n",
    "        # Identify and return link to listing\n",
    "        link = result.a['href']\n",
    "\n",
    "        # Print results only if title, price, and link are available\n",
    "        if (title and price and link):\n",
    "            print('-------------')\n",
    "            print(title)\n",
    "            print(price)\n",
    "            print(link)\n",
    "    except AttributeError as e:\n",
    "        print(e)"
   ]
  },
  {
   "cell_type": "code",
   "execution_count": null,
   "metadata": {},
   "outputs": [],
   "source": []
  }
 ],
 "metadata": {
  "kernelspec": {
   "display_name": "Python 3",
   "language": "python",
   "name": "python3"
  },
  "language_info": {
   "codemirror_mode": {
    "name": "ipython",
    "version": 3
   },
   "file_extension": ".py",
   "mimetype": "text/x-python",
   "name": "python",
   "nbconvert_exporter": "python",
   "pygments_lexer": "ipython3",
   "version": "3.6.5"
  }
 },
 "nbformat": 4,
 "nbformat_minor": 2
}
